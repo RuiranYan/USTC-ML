{
 "cells": [
  {
   "cell_type": "code",
   "execution_count": 1,
   "id": "crude-james",
   "metadata": {},
   "outputs": [],
   "source": [
    "import numpy as np\n",
    "import pandas as pd\n",
    "import matplotlib.pyplot as plt\n",
    "import datetime\n",
    "import sys"
   ]
  },
  {
   "cell_type": "code",
   "execution_count": 2,
   "id": "german-accent",
   "metadata": {},
   "outputs": [],
   "source": [
    "# get data features\n",
    "def load_data_features(datapath):\n",
    "    features = []\n",
    "    with open(datapath,'r') as f:\n",
    "        for line in f.readlines():\n",
    "            arr = []\n",
    "            arr_str = line.strip().split(',')\n",
    "            for i in range(2,len(arr_str)):\n",
    "                arr.append(float(arr_str[i]))\n",
    "            features.append(arr)\n",
    "    return features"
   ]
  },
  {
   "cell_type": "code",
   "execution_count": 3,
   "id": "light-hygiene",
   "metadata": {},
   "outputs": [],
   "source": [
    "# get data labels\n",
    "def load_data_labels(datapath):\n",
    "    labels = []\n",
    "    with open(datapath,'r') as f:\n",
    "        for line in f.readlines():\n",
    "            arr_str = line.strip().split(',')\n",
    "            if arr_str[1] == 'M':\n",
    "                label = 0\n",
    "            else:\n",
    "                label = 1\n",
    "            labels.append(label)\n",
    "    return labels"
   ]
  },
  {
   "cell_type": "code",
   "execution_count": 4,
   "id": "periodic-specific",
   "metadata": {},
   "outputs": [],
   "source": [
    "# get data index\n",
    "def load_data_indexs(datapath):\n",
    "    indexs = []\n",
    "    with open(datapath,'r') as f:\n",
    "        for line in f.readlines():\n",
    "            arr_str = line.strip().split(',')\n",
    "            index = int(arr_str[0])\n",
    "            indexs.append(index)\n",
    "    return indexs"
   ]
  },
  {
   "cell_type": "code",
   "execution_count": 5,
   "id": "cleared-ozone",
   "metadata": {},
   "outputs": [
    {
     "name": "stdout",
     "output_type": "stream",
     "text": [
      "(455, 30)\n",
      "(455,)\n",
      "(455,)\n"
     ]
    }
   ],
   "source": [
    "# test\n",
    "datapt = \"./data/wdbc_train.data\"\n",
    "fea = load_data_features(datapt)\n",
    "la = load_data_labels(datapt)\n",
    "ind = load_data_indexs(datapt)\n",
    "fea = np.array(fea)\n",
    "la = np.array(la)\n",
    "ind = np.array(ind)\n",
    "print(fea.shape)\n",
    "print(la.shape)\n",
    "print(ind.shape)"
   ]
  },
  {
   "cell_type": "code",
   "execution_count": 6,
   "id": "strange-supervision",
   "metadata": {},
   "outputs": [],
   "source": [
    "def sign(y):\n",
    "    for i in range(y.shape[0]):\n",
    "        if y[i]<0.5:\n",
    "            y[i] = 0\n",
    "        else:\n",
    "            y[i] = 1\n",
    "    return y"
   ]
  },
  {
   "cell_type": "code",
   "execution_count": 7,
   "id": "professional-tribe",
   "metadata": {},
   "outputs": [],
   "source": [
    "def get_acc(y_r, y_p):\n",
    "    y_p = sign(y_p)\n",
    "    s = 0\n",
    "    for i in range(y_r.shape[0]):\n",
    "        if y_r[i]==y_p[i]:\n",
    "            s+=1\n",
    "    return s/y_r.shape[0]"
   ]
  },
  {
   "cell_type": "code",
   "execution_count": 8,
   "id": "regional-process",
   "metadata": {},
   "outputs": [],
   "source": [
    "def get_gnd(datapt, indexs):\n",
    "    datas = []\n",
    "    gnd = []\n",
    "    with open(datapt,'r') as f:\n",
    "        for line in f.readlines():\n",
    "            arr = []\n",
    "            arr_str = line.strip().split(',')\n",
    "            arr.append(int(arr_str[0]))\n",
    "            if arr_str[1] == 'M':\n",
    "                arr.append(0)\n",
    "            else:\n",
    "                arr.append(1)\n",
    "            datas.append(arr)\n",
    "    for index in indexs:\n",
    "        for data in datas:\n",
    "            if index == data[0]:\n",
    "                gnd.append(data[1])\n",
    "    return gnd"
   ]
  },
  {
   "cell_type": "code",
   "execution_count": 9,
   "id": "nearby-authentication",
   "metadata": {},
   "outputs": [],
   "source": [
    "def sigmoid(x):\n",
    "    mask = (x>0)\n",
    "    po = np.zeros_like(x,dtype='float64')\n",
    "    no = np.zeros_like(x,dtype='float64')\n",
    "    po = 1/(1+np.exp(-x, po, where=mask))\n",
    "    po[~mask]=0\n",
    "    expx = np.exp(x,no,where=~mask)\n",
    "    no = expx/(1+expx)\n",
    "    no[mask] = 0\n",
    "    return po+no\n",
    "#     return 1/(1+np.exp(-x))\n",
    "\n",
    "# sigmoid一阶导数\n",
    "def dsigmoid(x):\n",
    "    return sigmoid(x)*(1-sigmoid(x))\n",
    "\n",
    "epsilon = 1e-5\n",
    "def loss(y_r,y_p): \n",
    "    return y_r*np.log(y_p+epsilon)+(1-y_r)*np.log(1-y_p+epsilon)\n",
    "\n",
    "def loss_f(y_r, y_p): # y_r:(n,1)\n",
    "    return -np.sum(np.nan_to_num(loss(y_r,y_p)))/y_r.shape[0]"
   ]
  },
  {
   "cell_type": "code",
   "execution_count": 10,
   "id": "terminal-breathing",
   "metadata": {},
   "outputs": [],
   "source": [
    "def train(X, y,itr,lr): # X:(n,31),y:(n,)\n",
    "    X=np.array(X)\n",
    "    n,m = X.shape\n",
    "    y = np.array(y)\n",
    "    mu = np.mean(X,axis=0)\n",
    "    sigma = np.std(X,axis=0)\n",
    "    X=(X-mu)/sigma\n",
    "    X = np.c_[X,np.ones((n,1))]\n",
    "    w = np.random.randn(m+1)\n",
    "    loss = []\n",
    "    itrs = []\n",
    "    for i in range(itr):\n",
    "        y_p = sigmoid(np.dot(w,X.transpose()))\n",
    "        if i%1000 == 0:\n",
    "            print(f'itr=={i},loss=={loss_f(y,y_p)}')\n",
    "#             print(f'y_p == {y_p}')\n",
    "        loss.append(loss_f(y,y_p))\n",
    "        itrs.append(i)\n",
    "        dw = np.dot((y_p-y),X)/n\n",
    "        w -= lr*dw\n",
    "    y_p = sigmoid(np.dot(w,X.transpose()))\n",
    "    print(f'finally loss:{loss_f(y,y_p)}')\n",
    "    plt.plot(itrs,loss)\n",
    "    return w, mu,sigma"
   ]
  },
  {
   "cell_type": "code",
   "execution_count": 11,
   "id": "bacterial-flush",
   "metadata": {},
   "outputs": [],
   "source": [
    "def test(X,y,w,mu,sigma):\n",
    "    X=np.array(X)\n",
    "    n,m = X.shape\n",
    "    X=(X-mu)/sigma\n",
    "    X = np.c_[X,np.ones((n,1))]\n",
    "    y = np.array(y)\n",
    "    y_p = sigmoid(np.dot(w,X.transpose()))\n",
    "#     print(y)\n",
    "#     print(sign(y_p))\n",
    "#     print(y-sign(y_p))\n",
    "#     print(y.shape)\n",
    "    acc = get_acc(y,y_p)\n",
    "    print(f'acc = {acc}')\n",
    "    return y_p"
   ]
  },
  {
   "cell_type": "code",
   "execution_count": 12,
   "id": "technical-wound",
   "metadata": {},
   "outputs": [],
   "source": [
    "def main():\n",
    "    path1 = './data/wdbc.data'\n",
    "    path2 = './data/wdbc_train.data'\n",
    "    path3 = './data/wdbc_test.data'\n",
    "    X_train = load_data_features(path2)\n",
    "    y_train = load_data_labels(path2)\n",
    "    X_test = load_data_features(path3)\n",
    "    y_test = get_gnd(path1, load_data_indexs(path3))\n",
    "    w,mu,sigma = train(X_train,y_train,5000,0.01)\n",
    "    test(X_test, y_test,w,mu,sigma)"
   ]
  },
  {
   "cell_type": "code",
   "execution_count": 13,
   "id": "sublime-movement",
   "metadata": {},
   "outputs": [
    {
     "name": "stdout",
     "output_type": "stream",
     "text": [
      "itr==0,loss==0.6550211863942953\n",
      "itr==1000,loss==0.1676865382089782\n",
      "itr==2000,loss==0.135466912132366\n",
      "itr==3000,loss==0.12094099093887847\n",
      "itr==4000,loss==0.1115210511856243\n",
      "finally loss:0.10461412787197455\n",
      "acc = 0.9824561403508771\n"
     ]
    },
    {
     "data": {
      "image/png": "[encoded data removed]",
      "text/plain": [
       "<Figure size 432x288 with 1 Axes>"
      ]
     },
     "metadata": {
      "needs_background": "light"
     },
     "output_type": "display_data"
    }
   ],
   "source": [
    "main()"
   ]
  }
 ],
 "metadata": {
  "kernelspec": {
   "display_name": "Python 3",
   "language": "python",
   "name": "python3"
  },
  "language_info": {
   "codemirror_mode": {
    "name": "ipython",
    "version": 3
   },
   "file_extension": ".py",
   "mimetype": "text/x-python",
   "name": "python",
   "nbconvert_exporter": "python",
   "pygments_lexer": "ipython3",
   "version": "3.8.5"
  }
 },
 "nbformat": 4,
 "nbformat_minor": 5
}
