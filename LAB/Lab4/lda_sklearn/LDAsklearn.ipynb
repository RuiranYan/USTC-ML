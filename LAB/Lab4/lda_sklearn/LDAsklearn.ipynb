{
 "cells": [
  {
   "cell_type": "markdown",
   "metadata": {},
   "source": [
    "# sklearn-LDA"
   ]
  },
  {
   "cell_type": "markdown",
   "metadata": {},
   "source": [
    "代码示例：https://mp.weixin.qq.com/s/hMcJtB3Lss1NBalXRTGZlQ （玉树芝兰） <br>\n",
    "可视化：https://blog.csdn.net/qq_39496504/article/details/107125284  <br>\n",
    "sklearn lda参数解读:https://scikit-learn.org/stable/modules/generated/sklearn.decomposition.LatentDirichletAllocation.html\n",
    "<br>中文版参数解读：https://blog.csdn.net/TiffanyRabbit/article/details/76445909\n",
    "<br>LDA原理-视频版：https://www.bilibili.com/video/BV1t54y127U8\n",
    "<br>LDA原理-文字版：https://www.jianshu.com/p/5c510694c07e\n",
    "<br>score的计算方法：https://github.com/scikit-learn/scikit-learn/blob/844b4be24d20fc42cc13b957374c718956a0db39/sklearn/decomposition/_lda.py#L729\n",
    "<br>主题困惑度1：https://blog.csdn.net/weixin_43343486/article/details/109255165\n",
    "<br>主题困惑度2：https://blog.csdn.net/weixin_39676021/article/details/112187210"
   ]
  },
  {
   "cell_type": "markdown",
   "metadata": {},
   "source": [
    "## 预处理"
   ]
  },
  {
   "cell_type": "code",
   "execution_count": 1,
   "metadata": {},
   "outputs": [],
   "source": [
    "import os\n",
    "import pandas as pd\n",
    "import re\n",
    "import jieba\n",
    "import jieba.posseg as psg"
   ]
  },
  {
   "cell_type": "code",
   "execution_count": 64,
   "metadata": {},
   "outputs": [],
   "source": [
    "output_path = 'D:/python/lda/result'\n",
    "file_path = 'D:/python/lda/data'\n",
    "os.chdir(file_path)\n",
    "data=pd.read_excel(\"data.xlsx\")#content type\n",
    "os.chdir(output_path)\n",
    "dic_file = \"D:/python/lda/stop_dic/dict.txt\"\n",
    "stop_file = \"D:/python/lda/stop_dic/stopwords.txt\""
   ]
  },
  {
   "cell_type": "code",
   "execution_count": 3,
   "metadata": {},
   "outputs": [],
   "source": [
    "def chinese_word_cut(mytext):\n",
    "    jieba.load_userdict(dic_file)\n",
    "    jieba.initialize()\n",
    "    try:\n",
    "        stopword_list = open(stop_file,encoding ='utf-8')\n",
    "    except:\n",
    "        stopword_list = []\n",
    "        print(\"error in stop_file\")\n",
    "    stop_list = []\n",
    "    flag_list = ['n','nz','vn']\n",
    "    for line in stopword_list:\n",
    "        line = re.sub(u'\\n|\\\\r', '', line)\n",
    "        stop_list.append(line)\n",
    "    \n",
    "    word_list = []\n",
    "    #jieba分词\n",
    "    seg_list = psg.cut(mytext)\n",
    "    for seg_word in seg_list:\n",
    "        word = re.sub(u'[^\\u4e00-\\u9fa5]','',seg_word.word)\n",
    "        find = 0\n",
    "        for stop_word in stop_list:\n",
    "            if stop_word == word or len(word)<2:     #this word is stopword\n",
    "                    find = 1\n",
    "                    break\n",
    "        if find == 0 and seg_word.flag in flag_list:\n",
    "            word_list.append(word)      \n",
    "    return (\" \").join(word_list)"
   ]
  },
  {
   "cell_type": "code",
   "execution_count": 4,
   "metadata": {},
   "outputs": [
    {
     "name": "stderr",
     "output_type": "stream",
     "text": [
      "Building prefix dict from the default dictionary ...\n",
      "Loading model from cache C:\\Users\\17888\\AppData\\Local\\Temp\\jieba.cache\n",
      "Loading model cost 1.157 seconds.\n",
      "Prefix dict has been built successfully.\n"
     ]
    }
   ],
   "source": [
    "data[\"content_cutted\"] = data.content.apply(chinese_word_cut)"
   ]
  },
  {
   "cell_type": "markdown",
   "metadata": {},
   "source": [
    "## LDA分析"
   ]
  },
  {
   "cell_type": "code",
   "execution_count": 5,
   "metadata": {},
   "outputs": [],
   "source": [
    "from sklearn.feature_extraction.text import TfidfVectorizer, CountVectorizer\n",
    "from sklearn.decomposition import LatentDirichletAllocation"
   ]
  },
  {
   "cell_type": "code",
   "execution_count": 6,
   "metadata": {},
   "outputs": [],
   "source": [
    "def print_top_words(model, feature_names, n_top_words):\n",
    "    tword = []\n",
    "    for topic_idx, topic in enumerate(model.components_):\n",
    "        print(\"Topic #%d:\" % topic_idx)\n",
    "        topic_w = \" \".join([feature_names[i] for i in topic.argsort()[:-n_top_words - 1:-1]])\n",
    "        tword.append(topic_w)\n",
    "        print(topic_w)\n",
    "    return tword"
   ]
  },
  {
   "cell_type": "code",
   "execution_count": 7,
   "metadata": {},
   "outputs": [],
   "source": [
    "n_features = 1000 #提取1000个特征词语\n",
    "tf_vectorizer = CountVectorizer(strip_accents = 'unicode',\n",
    "                                max_features=n_features,\n",
    "                                stop_words='english',\n",
    "                                max_df = 0.5,\n",
    "                                min_df = 10)\n",
    "tf = tf_vectorizer.fit_transform(data.content_cutted)"
   ]
  },
  {
   "cell_type": "code",
   "execution_count": 79,
   "metadata": {},
   "outputs": [
    {
     "data": {
      "text/plain": [
       "LatentDirichletAllocation(learning_offset=50, max_iter=50, n_components=8,\n",
       "                          random_state=0)"
      ]
     },
     "execution_count": 79,
     "metadata": {},
     "output_type": "execute_result"
    }
   ],
   "source": [
    "n_topics = 8\n",
    "lda = LatentDirichletAllocation(n_components=n_topics, max_iter=50,\n",
    "                                learning_method='batch',\n",
    "                                learning_offset=50,\n",
    "#                                 doc_topic_prior=0.1,\n",
    "#                                 topic_word_prior=0.01,\n",
    "                               random_state=0)\n",
    "lda.fit(tf)"
   ]
  },
  {
   "cell_type": "markdown",
   "metadata": {},
   "source": [
    "### 输出每个主题对应词语 "
   ]
  },
  {
   "cell_type": "code",
   "execution_count": 81,
   "metadata": {},
   "outputs": [
    {
     "name": "stdout",
     "output_type": "stream",
     "text": [
      "Topic #0:\n",
      "电影 票房 影片 观众 作品 故事 电影节 市场 娱乐 主演 合作 公司 内地 香港电影 新片 角色 制作 方面 媒体 本片 太空 剧本 成绩 人生 奖项\n",
      "Topic #1:\n",
      "主队 赔率 主场 联赛 公司 足彩 客场 客胜 比赛 本场 客队 平局 博彩 指数 调整 优势 意甲 半球 赢球 实力 一球 交锋 情况 冷门 历史\n",
      "Topic #2:\n",
      "主持人 工作 时间 研究 演员 生活 新浪 朋友 过程 人们 感觉 记者 科学家 人类 问题 现场 孩子 地方 事情 世界 经历 历史 老师 人员 网友\n",
      "Topic #3:\n",
      "专家 网友 老师 压力 走势 分析 突破 黄金 股票 问题 大盘 建议 成本 新浪 整理 调整 机会 坐堂 趋势 股市 后市 行情 市场 价位 公司\n",
      "Topic #4:\n",
      "比赛 球队 火箭 球员 数据 时间 篮板 奇才 问题 新浪 体育讯 助攻 机会 主场 状态 湖人 训练 内线 情况 球迷 火箭队 能力 客场 投篮 命中率\n",
      "Topic #5:\n",
      "项目 建筑 发展 生活 地产 空间 市场 区域 新浪 户型 活动 产品 设计 房子 别墅 国际 主持人 文化 客户 集团 论坛 艺术 开发商 功能 住宅\n",
      "Topic #6:\n",
      "游戏 比赛 电子竞技 玩家 网站 手机 总决赛 项目 冠军 战队 赛事 赛区 互联网 奖金 网络 世界 用户 全国 星际争霸 公司 视频 网吧 现场 决赛 时间\n",
      "Topic #7:\n",
      "学生 经济 投资 问题 市场 公司 大学 政府 学校 计划 政策 企业 国家 情况 专业 教育 银行 影响 发展 能力 资金 机构 国际 基金 方面\n"
     ]
    }
   ],
   "source": [
    "n_top_words = 25\n",
    "tf_feature_names = tf_vectorizer.get_feature_names()\n",
    "topic_word = print_top_words(lda, tf_feature_names, n_top_words)"
   ]
  },
  {
   "cell_type": "markdown",
   "metadata": {},
   "source": [
    "### 输出每篇文章对应主题 "
   ]
  },
  {
   "cell_type": "code",
   "execution_count": 82,
   "metadata": {},
   "outputs": [],
   "source": [
    "import numpy as np"
   ]
  },
  {
   "cell_type": "code",
   "execution_count": 83,
   "metadata": {},
   "outputs": [],
   "source": [
    "topics=lda.transform(tf)"
   ]
  },
  {
   "cell_type": "code",
   "execution_count": 84,
   "metadata": {},
   "outputs": [],
   "source": [
    "topic = []\n",
    "for t in topics:\n",
    "    topic.append(list(t).index(np.max(t)))\n",
    "data['topic']=topic\n",
    "data.to_excel(\"data_topic.xlsx\",index=False)"
   ]
  },
  {
   "cell_type": "code",
   "execution_count": 86,
   "metadata": {},
   "outputs": [
    {
     "data": {
      "text/plain": [
       "array([0.00277842, 0.00277847, 0.00278347, 0.00277921, 0.94701711,\n",
       "       0.00278748, 0.0362966 , 0.00277924])"
      ]
     },
     "execution_count": 86,
     "metadata": {},
     "output_type": "execute_result"
    }
   ],
   "source": [
    "topics[0]#0 1 2 "
   ]
  },
  {
   "cell_type": "markdown",
   "metadata": {},
   "source": [
    "## 可视化 "
   ]
  },
  {
   "cell_type": "code",
   "execution_count": null,
   "metadata": {},
   "outputs": [],
   "source": [
    "import pyLDAvis\n",
    "import pyLDAvis.sklearn"
   ]
  },
  {
   "cell_type": "code",
   "execution_count": 97,
   "metadata": {},
   "outputs": [
    {
     "name": "stdout",
     "output_type": "stream",
     "text": [
      "\n",
      "Note: if you're in the IPython notebook, pyLDAvis.show() is not the best command\n",
      "      to use. Consider using pyLDAvis.display(), or pyLDAvis.enable_notebook().\n",
      "      See more information at http://pyLDAvis.github.io/quickstart.html .\n",
      "\n",
      "You must interrupt the kernel to end this command\n",
      "\n",
      "Serving to http://127.0.0.1:8889/    [Ctrl-C to exit]\n"
     ]
    },
    {
     "name": "stderr",
     "output_type": "stream",
     "text": [
      "127.0.0.1 - - [16/Oct/2021 23:36:00] \"GET / HTTP/1.1\" 200 -\n",
      "127.0.0.1 - - [16/Oct/2021 23:36:00] \"GET /LDAvis.css HTTP/1.1\" 200 -\n",
      "127.0.0.1 - - [16/Oct/2021 23:36:01] \"GET /d3.js HTTP/1.1\" 200 -\n",
      "127.0.0.1 - - [16/Oct/2021 23:36:01] \"GET /LDAvis.js HTTP/1.1\" 200 -\n"
     ]
    },
    {
     "name": "stdout",
     "output_type": "stream",
     "text": [
      "\n",
      "stopping Server...\n"
     ]
    }
   ],
   "source": [
    "pyLDAvis.enable_notebook()\n",
    "pic = pyLDAvis.sklearn.prepare(lda, tf, tf_vectorizer)\n",
    "pyLDAvis.save_html(pic, 'lda_pass'+str(n_topics)+'.html')\n",
    "pyLDAvis.show(pic)"
   ]
  },
  {
   "cell_type": "markdown",
   "metadata": {},
   "source": [
    "## 困惑度 "
   ]
  },
  {
   "cell_type": "code",
   "execution_count": null,
   "metadata": {},
   "outputs": [],
   "source": [
    "import matplotlib.pyplot as plt"
   ]
  },
  {
   "cell_type": "code",
   "execution_count": 27,
   "metadata": {},
   "outputs": [
    {
     "name": "stdout",
     "output_type": "stream",
     "text": [
      "1\n",
      "2\n",
      "3\n",
      "4\n",
      "5\n",
      "6\n",
      "7\n",
      "8\n",
      "9\n",
      "10\n",
      "11\n",
      "12\n",
      "13\n",
      "14\n",
      "15\n"
     ]
    }
   ],
   "source": [
    "plexs = []\n",
    "scores = []\n",
    "n_max_topics = 16\n",
    "for i in range(1,n_max_topics):\n",
    "    print(i)\n",
    "    lda = LatentDirichletAllocation(n_components=i, max_iter=50,\n",
    "                                    learning_method='batch',\n",
    "                                    learning_offset=50,random_state=0)\n",
    "    lda.fit(tf)\n",
    "    plexs.append(lda.perplexity(tf))\n",
    "    scores.append(lda.score(tf))"
   ]
  },
  {
   "cell_type": "code",
   "execution_count": 58,
   "metadata": {},
   "outputs": [
    {
     "data": {
      "image/png": "[encoded data removed]",
      "text/plain": [
       "<Figure size 432x288 with 1 Axes>"
      ]
     },
     "metadata": {
      "needs_background": "light"
     },
     "output_type": "display_data"
    }
   ],
   "source": [
    "n_t=15#区间最右侧的值。注意：不能大于n_max_topics\n",
    "x=list(range(1,n_t))\n",
    "plt.plot(x,plexs[1:n_t])\n",
    "plt.xlabel(\"number of topics\")\n",
    "plt.ylabel(\"perplexity\")\n",
    "plt.show()"
   ]
  },
  {
   "cell_type": "code",
   "execution_count": 61,
   "metadata": {},
   "outputs": [
    {
     "data": {
      "image/png": "[encoded data removed]",
      "text/plain": [
       "<Figure size 432x288 with 1 Axes>"
      ]
     },
     "metadata": {
      "needs_background": "light"
     },
     "output_type": "display_data"
    }
   ],
   "source": [
    "n_t=15#区间最右侧的值。注意：不能大于n_max_topics\n",
    "x=list(range(1,n_t))\n",
    "plt.plot(x,scores[1:n_t])\n",
    "plt.xlabel(\"number of topics\")\n",
    "plt.ylabel(\"score\")\n",
    "plt.show()"
   ]
  },
  {
   "cell_type": "code",
   "execution_count": null,
   "metadata": {},
   "outputs": [],
   "source": []
  }
 ],
 "metadata": {
  "kernelspec": {
   "display_name": "Python 3",
   "language": "python",
   "name": "python3"
  },
  "language_info": {
   "codemirror_mode": {
    "name": "ipython",
    "version": 3
   },
   "file_extension": ".py",
   "mimetype": "text/x-python",
   "name": "python",
   "nbconvert_exporter": "python",
   "pygments_lexer": "ipython3",
   "version": "3.7.1"
  },
  "toc": {
   "base_numbering": 1,
   "nav_menu": {},
   "number_sections": true,
   "sideBar": true,
   "skip_h1_title": false,
   "title_cell": "Table of Contents",
   "title_sidebar": "Contents",
   "toc_cell": false,
   "toc_position": {
    "height": "303.324px",
    "left": "114px",
    "top": "110.322px",
    "width": "165px"
   },
   "toc_section_display": true,
   "toc_window_display": true
  }
 },
 "nbformat": 4,
 "nbformat_minor": 2
}
